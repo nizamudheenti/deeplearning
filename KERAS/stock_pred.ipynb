{
 "cells": [
  {
   "cell_type": "code",
   "execution_count": 6,
   "metadata": {},
   "outputs": [],
   "source": [
    "import numpy as np\n",
    "import pandas as pd\n",
    "import matplotlib.pyplot as plt\n",
    "from sklearn.preprocessing import MinMaxScaler"
   ]
  },
  {
   "cell_type": "code",
   "execution_count": 57,
   "metadata": {},
   "outputs": [
    {
     "name": "stdout",
     "output_type": "stream",
     "text": [
      "      Open\n",
      "0  0.04951\n",
      "1  0.04951\n",
      "2  0.08584\n",
      "3  0.08080\n",
      "4  0.07474\n"
     ]
    }
   ],
   "source": [
    "training_set=pd.read_csv('BTC-USD.csv')  \n",
    "training_set1=training_set.iloc[:,1:2]        #selecting the second column\n",
    "print(training_set1.head())                   #print first five rows\n",
    "#training_set1=training_set1.values            #converting to 2d array"
   ]
  },
  {
   "cell_type": "code",
   "execution_count": 58,
   "metadata": {},
   "outputs": [
    {
     "data": {
      "text/plain": [
       "array([[4.95100000e-02],\n",
       "       [4.95100000e-02],\n",
       "       [8.58400000e-02],\n",
       "       ...,\n",
       "       [7.70125000e+03],\n",
       "       [7.59377978e+03],\n",
       "       [8.25925977e+03]])"
      ]
     },
     "execution_count": 58,
     "metadata": {},
     "output_type": "execute_result"
    }
   ],
   "source": [
    "training_set1.values"
   ]
  },
  {
   "cell_type": "code",
   "execution_count": 59,
   "metadata": {},
   "outputs": [],
   "source": [
    "#Scaling the data\n",
    "sc = MinMaxScaler()                           #scaling using normalisation \n",
    "training_set1 = sc.fit_transform(training_set1)\n",
    "xtrain=training_set1[0:2694]               #input values of rows [0-2694\n",
    "ytrain=training_set1[1:2695]               #input values of rows [1-2695]\n",
    "xtrain = np.reshape(xtrain, (2694, 1, 1))     #Reshaping into required shape for Keras"
   ]
  },
  {
   "cell_type": "code",
   "execution_count": 60,
   "metadata": {},
   "outputs": [],
   "source": [
    "#importing keras and its packages\n",
    "\n",
    "from keras.models import Sequential\n",
    "from keras.layers import Dense\n",
    "from keras.layers import LSTM"
   ]
  },
  {
   "cell_type": "code",
   "execution_count": 80,
   "metadata": {},
   "outputs": [
    {
     "name": "stdout",
     "output_type": "stream",
     "text": [
      "Epoch 1/20\n",
      "2694/2694 [==============================] - 2s 586us/step - loss: 0.1385\n",
      "Epoch 2/20\n",
      "2694/2694 [==============================] - 0s 99us/step - loss: 0.0197\n",
      "Epoch 3/20\n",
      "2694/2694 [==============================] - 0s 104us/step - loss: 0.0047\n",
      "Epoch 4/20\n",
      "2694/2694 [==============================] - 0s 99us/step - loss: 0.0038\n",
      "Epoch 5/20\n",
      "2694/2694 [==============================] - 0s 99us/step - loss: 0.0036\n",
      "Epoch 6/20\n",
      "2694/2694 [==============================] - 0s 104us/step - loss: 0.0034\n",
      "Epoch 7/20\n",
      "2694/2694 [==============================] - 0s 99us/step - loss: 0.0032\n",
      "Epoch 8/20\n",
      "2694/2694 [==============================] - 0s 145us/step - loss: 0.0029\n",
      "Epoch 9/20\n",
      "2694/2694 [==============================] - 0s 104us/step - loss: 0.0028\n",
      "Epoch 10/20\n",
      "2694/2694 [==============================] - 0s 104us/step - loss: 0.0026\n",
      "Epoch 11/20\n",
      "2694/2694 [==============================] - 0s 104us/step - loss: 0.0024\n",
      "Epoch 12/20\n",
      "2694/2694 [==============================] - 0s 128us/step - loss: 0.0022\n",
      "Epoch 13/20\n",
      "2694/2694 [==============================] - 0s 128us/step - loss: 0.0021\n",
      "Epoch 14/20\n",
      "2694/2694 [==============================] - 0s 104us/step - loss: 0.0019\n",
      "Epoch 15/20\n",
      "2694/2694 [==============================] - 0s 104us/step - loss: 0.0018\n",
      "Epoch 16/20\n",
      "2694/2694 [==============================] - 0s 99us/step - loss: 0.0016\n",
      "Epoch 17/20\n",
      "2694/2694 [==============================] - 0s 105us/step - loss: 0.0015\n",
      "Epoch 18/20\n",
      "2694/2694 [==============================] - 0s 106us/step - loss: 0.0013\n",
      "Epoch 19/20\n",
      "2694/2694 [==============================] - 0s 104us/step - loss: 0.0012\n",
      "Epoch 20/20\n",
      "2694/2694 [==============================] - 0s 116us/step - loss: 0.0011\n"
     ]
    },
    {
     "data": {
      "text/plain": [
       "<keras.callbacks.callbacks.History at 0x263cc488148>"
      ]
     },
     "execution_count": 80,
     "metadata": {},
     "output_type": "execute_result"
    }
   ],
   "source": [
    "regressor=Sequential()                                                      #initialize the RNN\n",
    "\n",
    "regressor.add(LSTM(units=10,activation='sigmoid',input_shape=(None,1)))      #adding input layerand the LSTM layer \n",
    "regressor.add(Dense(units=1))                                               #adding output layers\n",
    "regressor.compile(optimizer='adam',loss='mean_squared_error')               #compiling the RNN\n",
    "\n",
    "regressor.fit(xtrain,ytrain,batch_size=32,epochs=20)                      #fitting the RNN to the training set  \n"
   ]
  },
  {
   "cell_type": "code",
   "execution_count": 81,
   "metadata": {},
   "outputs": [],
   "source": [
    "# Reading CSV file into test set\n",
    "test_set = pd.read_csv('BTC-USD.csv')\n",
    "test_set.head()\n",
    "real_stock_price = test_set.iloc[:,1:2]      #selecting the second column\n",
    "real_stock_price = real_stock_price.values      #converting to 2D array"
   ]
  },
  {
   "cell_type": "code",
   "execution_count": 82,
   "metadata": {},
   "outputs": [
    {
     "data": {
      "text/plain": [
       "array([[4.95100000e-02],\n",
       "       [4.95100000e-02],\n",
       "       [8.58400000e-02],\n",
       "       ...,\n",
       "       [7.70125000e+03],\n",
       "       [7.59377978e+03],\n",
       "       [8.25925977e+03]])"
      ]
     },
     "execution_count": 82,
     "metadata": {},
     "output_type": "execute_result"
    }
   ],
   "source": [
    "real_stock_price"
   ]
  },
  {
   "cell_type": "code",
   "execution_count": 83,
   "metadata": {},
   "outputs": [],
   "source": [
    "#getting the predicted BTC value of the first week of Dec 2017  \n",
    "inputs = real_stock_price\t\t\t\n",
    "#inputs = sc.transform(inputs)\n",
    "inputs = np.reshape(inputs, (2765, 1, 1))\n",
    "predicted_stock_price = regressor.predict(inputs)\n",
    "#predicted_stock_price = sc.inverse_transform(predicted_stock_price)\n"
   ]
  },
  {
   "cell_type": "code",
   "execution_count": 84,
   "metadata": {},
   "outputs": [],
   "source": [
    "from sklearn.metrics import accuracy_score"
   ]
  },
  {
   "cell_type": "code",
   "execution_count": 85,
   "metadata": {},
   "outputs": [
    {
     "ename": "ValueError",
     "evalue": "continuous is not supported",
     "output_type": "error",
     "traceback": [
      "\u001b[1;31m---------------------------------------------------------------------------\u001b[0m",
      "\u001b[1;31mValueError\u001b[0m                                Traceback (most recent call last)",
      "\u001b[1;32m<ipython-input-85-130a1198ab33>\u001b[0m in \u001b[0;36m<module>\u001b[1;34m\u001b[0m\n\u001b[1;32m----> 1\u001b[1;33m \u001b[0maccuracy_score\u001b[0m\u001b[1;33m(\u001b[0m\u001b[0mreal_stock_price\u001b[0m\u001b[1;33m[\u001b[0m\u001b[1;36m0\u001b[0m\u001b[1;33m:\u001b[0m\u001b[1;36m100\u001b[0m\u001b[1;33m]\u001b[0m\u001b[1;33m,\u001b[0m\u001b[0mpredicted_stock_price\u001b[0m\u001b[1;33m[\u001b[0m\u001b[1;36m0\u001b[0m\u001b[1;33m:\u001b[0m\u001b[1;36m100\u001b[0m\u001b[1;33m]\u001b[0m\u001b[1;33m)\u001b[0m\u001b[1;33m\u001b[0m\u001b[1;33m\u001b[0m\u001b[0m\n\u001b[0m",
      "\u001b[1;32m~\\Anaconda3\\lib\\site-packages\\sklearn\\metrics\\classification.py\u001b[0m in \u001b[0;36maccuracy_score\u001b[1;34m(y_true, y_pred, normalize, sample_weight)\u001b[0m\n\u001b[0;32m    174\u001b[0m \u001b[1;33m\u001b[0m\u001b[0m\n\u001b[0;32m    175\u001b[0m     \u001b[1;31m# Compute accuracy for each possible representation\u001b[0m\u001b[1;33m\u001b[0m\u001b[1;33m\u001b[0m\u001b[1;33m\u001b[0m\u001b[0m\n\u001b[1;32m--> 176\u001b[1;33m     \u001b[0my_type\u001b[0m\u001b[1;33m,\u001b[0m \u001b[0my_true\u001b[0m\u001b[1;33m,\u001b[0m \u001b[0my_pred\u001b[0m \u001b[1;33m=\u001b[0m \u001b[0m_check_targets\u001b[0m\u001b[1;33m(\u001b[0m\u001b[0my_true\u001b[0m\u001b[1;33m,\u001b[0m \u001b[0my_pred\u001b[0m\u001b[1;33m)\u001b[0m\u001b[1;33m\u001b[0m\u001b[1;33m\u001b[0m\u001b[0m\n\u001b[0m\u001b[0;32m    177\u001b[0m     \u001b[0mcheck_consistent_length\u001b[0m\u001b[1;33m(\u001b[0m\u001b[0my_true\u001b[0m\u001b[1;33m,\u001b[0m \u001b[0my_pred\u001b[0m\u001b[1;33m,\u001b[0m \u001b[0msample_weight\u001b[0m\u001b[1;33m)\u001b[0m\u001b[1;33m\u001b[0m\u001b[1;33m\u001b[0m\u001b[0m\n\u001b[0;32m    178\u001b[0m     \u001b[1;32mif\u001b[0m \u001b[0my_type\u001b[0m\u001b[1;33m.\u001b[0m\u001b[0mstartswith\u001b[0m\u001b[1;33m(\u001b[0m\u001b[1;34m'multilabel'\u001b[0m\u001b[1;33m)\u001b[0m\u001b[1;33m:\u001b[0m\u001b[1;33m\u001b[0m\u001b[1;33m\u001b[0m\u001b[0m\n",
      "\u001b[1;32m~\\Anaconda3\\lib\\site-packages\\sklearn\\metrics\\classification.py\u001b[0m in \u001b[0;36m_check_targets\u001b[1;34m(y_true, y_pred)\u001b[0m\n\u001b[0;32m     86\u001b[0m     \u001b[1;31m# No metrics support \"multiclass-multioutput\" format\u001b[0m\u001b[1;33m\u001b[0m\u001b[1;33m\u001b[0m\u001b[1;33m\u001b[0m\u001b[0m\n\u001b[0;32m     87\u001b[0m     \u001b[1;32mif\u001b[0m \u001b[1;33m(\u001b[0m\u001b[0my_type\u001b[0m \u001b[1;32mnot\u001b[0m \u001b[1;32min\u001b[0m \u001b[1;33m[\u001b[0m\u001b[1;34m\"binary\"\u001b[0m\u001b[1;33m,\u001b[0m \u001b[1;34m\"multiclass\"\u001b[0m\u001b[1;33m,\u001b[0m \u001b[1;34m\"multilabel-indicator\"\u001b[0m\u001b[1;33m]\u001b[0m\u001b[1;33m)\u001b[0m\u001b[1;33m:\u001b[0m\u001b[1;33m\u001b[0m\u001b[1;33m\u001b[0m\u001b[0m\n\u001b[1;32m---> 88\u001b[1;33m         \u001b[1;32mraise\u001b[0m \u001b[0mValueError\u001b[0m\u001b[1;33m(\u001b[0m\u001b[1;34m\"{0} is not supported\"\u001b[0m\u001b[1;33m.\u001b[0m\u001b[0mformat\u001b[0m\u001b[1;33m(\u001b[0m\u001b[0my_type\u001b[0m\u001b[1;33m)\u001b[0m\u001b[1;33m)\u001b[0m\u001b[1;33m\u001b[0m\u001b[1;33m\u001b[0m\u001b[0m\n\u001b[0m\u001b[0;32m     89\u001b[0m \u001b[1;33m\u001b[0m\u001b[0m\n\u001b[0;32m     90\u001b[0m     \u001b[1;32mif\u001b[0m \u001b[0my_type\u001b[0m \u001b[1;32min\u001b[0m \u001b[1;33m[\u001b[0m\u001b[1;34m\"binary\"\u001b[0m\u001b[1;33m,\u001b[0m \u001b[1;34m\"multiclass\"\u001b[0m\u001b[1;33m]\u001b[0m\u001b[1;33m:\u001b[0m\u001b[1;33m\u001b[0m\u001b[1;33m\u001b[0m\u001b[0m\n",
      "\u001b[1;31mValueError\u001b[0m: continuous is not supported"
     ]
    }
   ],
   "source": [
    "accuracy_score(real_stock_price[0:100],predicted_stock_price[0:100])"
   ]
  },
  {
   "cell_type": "code",
   "execution_count": 86,
   "metadata": {},
   "outputs": [
    {
     "data": {
      "image/png": "[encoded data removed]",
      "text/plain": [
       "<Figure size 432x288 with 1 Axes>"
      ]
     },
     "metadata": {
      "needs_background": "light"
     },
     "output_type": "display_data"
    }
   ],
   "source": [
    "plt.plot(real_stock_price, color = 'green', label = 'Current BTC Value')\n",
    "plt.plot(predicted_stock_price, color = 'red', label = 'Predicted BTC Value')\n",
    "plt.title('BTC Value Prediction')\n",
    "plt.xlabel('Days')\n",
    "plt.ylabel('BTC Value')\n",
    "plt.legend()\n",
    "plt.show()"
   ]
  },
  {
   "cell_type": "code",
   "execution_count": null,
   "metadata": {},
   "outputs": [],
   "source": []
  },
  {
   "cell_type": "code",
   "execution_count": null,
   "metadata": {},
   "outputs": [],
   "source": []
  }
 ],
 "metadata": {
  "kernelspec": {
   "display_name": "Python 3",
   "language": "python",
   "name": "python3"
  },
  "language_info": {
   "codemirror_mode": {
    "name": "ipython",
    "version": 3
   },
   "file_extension": ".py",
   "mimetype": "text/x-python",
   "name": "python",
   "nbconvert_exporter": "python",
   "pygments_lexer": "ipython3",
   "version": "3.7.4"
  }
 },
 "nbformat": 4,
 "nbformat_minor": 4
}
